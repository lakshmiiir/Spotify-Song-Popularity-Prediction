{
 "cells": [
  {
   "cell_type": "code",
   "execution_count": 1,
   "id": "7474dfce-a05f-4281-abb5-1df5e8b558d7",
   "metadata": {},
   "outputs": [],
   "source": [
    "#load packages\n",
    "import numpy as np\n",
    "import pandas as pd\n",
    "import itertools \n",
    "import matplotlib.pyplot as plt\n",
    "\n",
    "from datetime import datetime #NEW: If you want to time calculations\n",
    "from math import sqrt #NEW: For taking square roots, not totally necessary\n",
    "from matplotlib import cm\n",
    "from sklearn.linear_model import LinearRegression \n",
    "from tqdm import tqdm\n",
    "%matplotlib inline\n",
    "\n",
    "#Just for prep\n",
    "from sklearn.preprocessing import OneHotEncoder\n",
    "import seaborn as sns"
   ]
  },
  {
   "cell_type": "code",
   "execution_count": 2,
   "id": "3ee78d3c-87e8-4b0a-9429-b0881661db4d",
   "metadata": {},
   "outputs": [],
   "source": [
    "#Load Data\n",
    "file_path = ''\n",
    "music = pd.read_csv(file_path + 'modified_spotify_data.csv')"
   ]
  },
  {
   "cell_type": "code",
   "execution_count": 3,
   "id": "a42c89a4-7a96-46ed-8eaa-dd49f566e384",
   "metadata": {},
   "outputs": [],
   "source": [
    "#Test Train Split\n",
    "train = music.sample(frac=0.8,random_state=0) \n",
    "test = music.drop(train.index)\n",
    "\n",
    "train = train.reset_index(drop = True) \n",
    "test = test.reset_index(drop = True)"
   ]
  },
  {
   "cell_type": "code",
   "execution_count": 4,
   "id": "7a9922a3-1d33-4ebe-b0fa-f4e243479da6",
   "metadata": {},
   "outputs": [],
   "source": [
    "#Define RSS function\n",
    "def RSS(values, predictions):\n",
    "    diffs = values - predictions\n",
    "    squares = diffs*diffs\n",
    "    return squares.sum()"
   ]
  },
  {
   "cell_type": "markdown",
   "id": "5755d4e3-0c25-4865-a91c-661d17900831",
   "metadata": {},
   "source": [
    "### Begin Practicum"
   ]
  },
  {
   "cell_type": "markdown",
   "id": "3d5a8bc5-ea30-42a1-929a-3600244a8ac2",
   "metadata": {},
   "source": [
    "In this practicum, we will be dealing with a list of songs that are on spotify and we will be trying to predict how popular they are.  We will measure popularity via the variable `streams`.\n",
    "\n",
    "You should not that while `track_name` and `artist(s)_name` are helpful variables for understanding what songs we are dealing with, they are text data, and will *not* be used as input to our model. "
   ]
  },
  {
   "cell_type": "code",
   "execution_count": 5,
   "id": "40b2edb7",
   "metadata": {},
   "outputs": [
    {
     "data": {
      "text/html": [
       "<div>\n",
       "<style scoped>\n",
       "    .dataframe tbody tr th:only-of-type {\n",
       "        vertical-align: middle;\n",
       "    }\n",
       "\n",
       "    .dataframe tbody tr th {\n",
       "        vertical-align: top;\n",
       "    }\n",
       "\n",
       "    .dataframe thead th {\n",
       "        text-align: right;\n",
       "    }\n",
       "</style>\n",
       "<table border=\"1\" class=\"dataframe\">\n",
       "  <thead>\n",
       "    <tr style=\"text-align: right;\">\n",
       "      <th></th>\n",
       "      <th>track_name</th>\n",
       "      <th>artist(s)_name</th>\n",
       "      <th>artist_count</th>\n",
       "      <th>streams</th>\n",
       "      <th>bpm</th>\n",
       "      <th>danceability_%</th>\n",
       "      <th>valence_%</th>\n",
       "      <th>energy_%</th>\n",
       "      <th>acousticness_%</th>\n",
       "      <th>instrumentalness_%</th>\n",
       "      <th>...</th>\n",
       "      <th>key_B</th>\n",
       "      <th>key_C#</th>\n",
       "      <th>key_D</th>\n",
       "      <th>key_D#</th>\n",
       "      <th>key_E</th>\n",
       "      <th>key_F</th>\n",
       "      <th>key_F#</th>\n",
       "      <th>key_G</th>\n",
       "      <th>key_G#</th>\n",
       "      <th>key_none</th>\n",
       "    </tr>\n",
       "  </thead>\n",
       "  <tbody>\n",
       "    <tr>\n",
       "      <th>0</th>\n",
       "      <td>Seven (feat. Latto) (Explicit Ver.)</td>\n",
       "      <td>Latto, Jung Kook</td>\n",
       "      <td>2</td>\n",
       "      <td>141381703</td>\n",
       "      <td>125</td>\n",
       "      <td>80</td>\n",
       "      <td>89</td>\n",
       "      <td>83</td>\n",
       "      <td>31</td>\n",
       "      <td>0</td>\n",
       "      <td>...</td>\n",
       "      <td>1.0</td>\n",
       "      <td>0.0</td>\n",
       "      <td>0.0</td>\n",
       "      <td>0.0</td>\n",
       "      <td>0.0</td>\n",
       "      <td>0.0</td>\n",
       "      <td>0.0</td>\n",
       "      <td>0.0</td>\n",
       "      <td>0.0</td>\n",
       "      <td>0.0</td>\n",
       "    </tr>\n",
       "    <tr>\n",
       "      <th>1</th>\n",
       "      <td>LALA</td>\n",
       "      <td>Myke Towers</td>\n",
       "      <td>1</td>\n",
       "      <td>133716286</td>\n",
       "      <td>92</td>\n",
       "      <td>71</td>\n",
       "      <td>61</td>\n",
       "      <td>74</td>\n",
       "      <td>7</td>\n",
       "      <td>0</td>\n",
       "      <td>...</td>\n",
       "      <td>0.0</td>\n",
       "      <td>1.0</td>\n",
       "      <td>0.0</td>\n",
       "      <td>0.0</td>\n",
       "      <td>0.0</td>\n",
       "      <td>0.0</td>\n",
       "      <td>0.0</td>\n",
       "      <td>0.0</td>\n",
       "      <td>0.0</td>\n",
       "      <td>0.0</td>\n",
       "    </tr>\n",
       "    <tr>\n",
       "      <th>2</th>\n",
       "      <td>vampire</td>\n",
       "      <td>Olivia Rodrigo</td>\n",
       "      <td>1</td>\n",
       "      <td>140003974</td>\n",
       "      <td>138</td>\n",
       "      <td>51</td>\n",
       "      <td>32</td>\n",
       "      <td>53</td>\n",
       "      <td>17</td>\n",
       "      <td>0</td>\n",
       "      <td>...</td>\n",
       "      <td>0.0</td>\n",
       "      <td>0.0</td>\n",
       "      <td>0.0</td>\n",
       "      <td>0.0</td>\n",
       "      <td>0.0</td>\n",
       "      <td>1.0</td>\n",
       "      <td>0.0</td>\n",
       "      <td>0.0</td>\n",
       "      <td>0.0</td>\n",
       "      <td>0.0</td>\n",
       "    </tr>\n",
       "    <tr>\n",
       "      <th>3</th>\n",
       "      <td>Cruel Summer</td>\n",
       "      <td>Taylor Swift</td>\n",
       "      <td>1</td>\n",
       "      <td>800840817</td>\n",
       "      <td>170</td>\n",
       "      <td>55</td>\n",
       "      <td>58</td>\n",
       "      <td>72</td>\n",
       "      <td>11</td>\n",
       "      <td>0</td>\n",
       "      <td>...</td>\n",
       "      <td>0.0</td>\n",
       "      <td>0.0</td>\n",
       "      <td>0.0</td>\n",
       "      <td>0.0</td>\n",
       "      <td>0.0</td>\n",
       "      <td>0.0</td>\n",
       "      <td>0.0</td>\n",
       "      <td>0.0</td>\n",
       "      <td>0.0</td>\n",
       "      <td>0.0</td>\n",
       "    </tr>\n",
       "    <tr>\n",
       "      <th>4</th>\n",
       "      <td>WHERE SHE GOES</td>\n",
       "      <td>Bad Bunny</td>\n",
       "      <td>1</td>\n",
       "      <td>303236322</td>\n",
       "      <td>144</td>\n",
       "      <td>65</td>\n",
       "      <td>23</td>\n",
       "      <td>80</td>\n",
       "      <td>14</td>\n",
       "      <td>63</td>\n",
       "      <td>...</td>\n",
       "      <td>0.0</td>\n",
       "      <td>0.0</td>\n",
       "      <td>0.0</td>\n",
       "      <td>0.0</td>\n",
       "      <td>0.0</td>\n",
       "      <td>0.0</td>\n",
       "      <td>0.0</td>\n",
       "      <td>0.0</td>\n",
       "      <td>0.0</td>\n",
       "      <td>0.0</td>\n",
       "    </tr>\n",
       "  </tbody>\n",
       "</table>\n",
       "<p>5 rows × 25 columns</p>\n",
       "</div>"
      ],
      "text/plain": [
       "                            track_name    artist(s)_name  artist_count  \\\n",
       "0  Seven (feat. Latto) (Explicit Ver.)  Latto, Jung Kook             2   \n",
       "1                                 LALA       Myke Towers             1   \n",
       "2                              vampire    Olivia Rodrigo             1   \n",
       "3                         Cruel Summer      Taylor Swift             1   \n",
       "4                       WHERE SHE GOES         Bad Bunny             1   \n",
       "\n",
       "     streams  bpm  danceability_%  valence_%  energy_%  acousticness_%  \\\n",
       "0  141381703  125              80         89        83              31   \n",
       "1  133716286   92              71         61        74               7   \n",
       "2  140003974  138              51         32        53              17   \n",
       "3  800840817  170              55         58        72              11   \n",
       "4  303236322  144              65         23        80              14   \n",
       "\n",
       "   instrumentalness_%  ...  key_B  key_C#  key_D  key_D#  key_E  key_F  \\\n",
       "0                   0  ...    1.0     0.0    0.0     0.0    0.0    0.0   \n",
       "1                   0  ...    0.0     1.0    0.0     0.0    0.0    0.0   \n",
       "2                   0  ...    0.0     0.0    0.0     0.0    0.0    1.0   \n",
       "3                   0  ...    0.0     0.0    0.0     0.0    0.0    0.0   \n",
       "4                  63  ...    0.0     0.0    0.0     0.0    0.0    0.0   \n",
       "\n",
       "   key_F#  key_G  key_G#  key_none  \n",
       "0     0.0    0.0     0.0       0.0  \n",
       "1     0.0    0.0     0.0       0.0  \n",
       "2     0.0    0.0     0.0       0.0  \n",
       "3     0.0    0.0     0.0       0.0  \n",
       "4     0.0    0.0     0.0       0.0  \n",
       "\n",
       "[5 rows x 25 columns]"
      ]
     },
     "execution_count": 5,
     "metadata": {},
     "output_type": "execute_result"
    }
   ],
   "source": [
    "music.head()"
   ]
  },
  {
   "cell_type": "markdown",
   "id": "69c31d8a-764c-481f-b5f1-27a7c9f411b0",
   "metadata": {},
   "source": [
    "**Question 1:** What are the mean and median stream values in our data?"
   ]
  },
  {
   "cell_type": "code",
   "execution_count": 6,
   "id": "60402afc-af0e-4dca-bfb5-05adad2c8e34",
   "metadata": {},
   "outputs": [
    {
     "data": {
      "text/plain": [
       "np.float64(514137424.93907565)"
      ]
     },
     "execution_count": 6,
     "metadata": {},
     "output_type": "execute_result"
    }
   ],
   "source": [
    "music['streams'].mean() "
   ]
  },
  {
   "cell_type": "code",
   "execution_count": 7,
   "id": "9a72ca63",
   "metadata": {},
   "outputs": [
    {
     "data": {
      "text/plain": [
       "np.float64(290530915.0)"
      ]
     },
     "execution_count": 7,
     "metadata": {},
     "output_type": "execute_result"
    }
   ],
   "source": [
    "music['streams'].median()"
   ]
  },
  {
   "cell_type": "markdown",
   "id": "cc6928d2-5d6f-4c5d-95a0-0095e2f1592a",
   "metadata": {},
   "source": [
    "<span style=\"color:red\"> **Answer for Question 1:** </span> Mean: 514137424 Median: 290530915"
   ]
  },
  {
   "cell_type": "markdown",
   "id": "054f2a41-f392-4488-aa96-ca7a5888e3b0",
   "metadata": {},
   "source": [
    "For the record, here is a nice visual of the distribution of `stream` values."
   ]
  },
  {
   "cell_type": "code",
   "execution_count": 8,
   "id": "5c5f014d-8c85-4e85-a7e3-13fe38010851",
   "metadata": {},
   "outputs": [
    {
     "data": {
      "image/png": "[encoded data removed]",
      "text/plain": [
       "<Figure size 640x480 with 1 Axes>"
      ]
     },
     "metadata": {},
     "output_type": "display_data"
    }
   ],
   "source": [
    "train['streams'].plot.box()\n",
    "plt.show()"
   ]
  },
  {
   "cell_type": "markdown",
   "id": "9ec78bff-8bde-4832-9d89-494c219bd52d",
   "metadata": {},
   "source": [
    "**Task 2:** Build a model that uses the variables `bpm`, `danceability_%`,`instrumentalness_%`, and  `speechiness_%` to predict how many `streams` a song will have.\n",
    "\n",
    "**Question:** Which of the input features have positive coefficients in the model? "
   ]
  },
  {
   "cell_type": "code",
   "execution_count": 9,
   "id": "f3e38653-8e0f-4508-83ce-b45636b3a978",
   "metadata": {},
   "outputs": [],
   "source": [
    "features = ['bpm', 'danceability_%','instrumentalness_%','speechiness_%']\n",
    "X = train[features]\n",
    "Y = train['streams']\n",
    "\n",
    "model = LinearRegression().fit(X,Y)"
   ]
  },
  {
   "cell_type": "code",
   "execution_count": 10,
   "id": "b70bd33e",
   "metadata": {},
   "outputs": [
    {
     "name": "stdout",
     "output_type": "stream",
     "text": [
      "[  135097.28502799 -2354362.90519021 -3213640.18276227 -5524030.40725799]\n"
     ]
    }
   ],
   "source": [
    "print(model.coef_)"
   ]
  },
  {
   "cell_type": "markdown",
   "id": "7a59976d-3e49-4713-a6a1-622e28cd011d",
   "metadata": {},
   "source": [
    "<span style=\"color:red\"> **Answer for Question 2:** </span> bpm "
   ]
  },
  {
   "cell_type": "markdown",
   "id": "cce31ede-2fbb-4cdb-bdd5-5db482cc16ce",
   "metadata": {},
   "source": [
    "**Question 3:**  Of the `example_features` listed below, what is the best 2-feature model for predicting `streams`? "
   ]
  },
  {
   "cell_type": "code",
   "execution_count": 11,
   "id": "cd39977c-4a78-4f65-9c3c-7d3fa650c0c3",
   "metadata": {},
   "outputs": [],
   "source": [
    "\n",
    "example_features = ['bpm','danceability_%', 'valence_%', 'energy_%', 'acousticness_%','instrumentalness_%', 'liveness_%', 'speechiness_%', 'major_key','key_A', 'key_A#', 'key_B', 'key_C#', 'key_D', 'key_D#', 'key_E','key_F', 'key_F#', 'key_G', 'key_G#', 'key_none']\n",
    "\n",
    "pairs = list(itertools.combinations(example_features, 2))\n",
    "\n",
    "RSS_list = [] \n",
    "for features in pairs:  \n",
    "    pair_xvals = train[list(features)]  \n",
    "   \n",
    "    pair_model = LinearRegression().fit(pair_xvals, train['streams'])\n",
    "    pair_predictions = pair_model.predict(test[list(features)])  \n",
    "    pair_RSS = RSS(test['streams'], pair_predictions)  \n",
    "    RSS_list.append(pair_RSS)"
   ]
  },
  {
   "cell_type": "code",
   "execution_count": 12,
   "id": "22c9db49",
   "metadata": {},
   "outputs": [
    {
     "data": {
      "text/plain": [
       "(('danceability_%', 'key_C#'), np.float64(7.340004682841314e+19))"
      ]
     },
     "execution_count": 12,
     "metadata": {},
     "output_type": "execute_result"
    }
   ],
   "source": [
    "best_pair_index = RSS_list.index(min(RSS_list))\n",
    "best_pair = pairs[best_pair_index]\n",
    "best_RSS = RSS_list[best_pair_index]\n",
    "\n",
    "best_pair, best_RSS"
   ]
  },
  {
   "cell_type": "markdown",
   "id": "8f1ee60d-e68d-4098-845b-4881e83f01d2",
   "metadata": {},
   "source": [
    "<span style=\"color:red\"> **Answer for Question 3:** </span> danceability_% AND key_C#"
   ]
  },
  {
   "cell_type": "markdown",
   "id": "38b36954-51e8-4e65-9b6e-924e288a3c03",
   "metadata": {},
   "source": [
    "**Question 4:** Which model is better, the optimal 2-feature model or the 4-feature model built in Question 2?"
   ]
  },
  {
   "cell_type": "code",
   "execution_count": 13,
   "id": "f8433d2e-101a-4839-a3dd-80851a8523db",
   "metadata": {},
   "outputs": [
    {
     "data": {
      "text/plain": [
       "(np.float64(7.289042272905519e+19), np.float64(7.340004682841314e+19))"
      ]
     },
     "execution_count": 13,
     "metadata": {},
     "output_type": "execute_result"
    }
   ],
   "source": [
    "feature_4 = ['bpm', 'danceability_%', 'instrumentalness_%', 'speechiness_%']\n",
    "X = train[feature_4]\n",
    "model_4_feature = LinearRegression().fit(X, train['streams'])\n",
    "predictions_4_feature = model_4_feature.predict(test[['bpm', 'danceability_%', 'instrumentalness_%', 'speechiness_%']])\n",
    "RSS_4_feature = RSS(test['streams'], predictions_4_feature)\n",
    "\n",
    "RSS_4_feature, best_RSS\n"
   ]
  },
  {
   "cell_type": "markdown",
   "id": "5fe5975e",
   "metadata": {},
   "source": [
    "<span style=\"color:red\"> **Answer for Question 4:** </span> 4 Feature Model"
   ]
  },
  {
   "cell_type": "markdown",
   "id": "5f6ca860-51e3-4c88-b91c-76a4d712bd54",
   "metadata": {},
   "source": [
    "**Task 5**: Create a single feature linear regression model using `energy_%` as input.  Then create a basic 2-D graph of the training data AND the model in the same image.  Please make the points associated with training data blue and the model values appear in orange.  The image you need to replicate is posted on Schoology."
   ]
  },
  {
   "cell_type": "code",
   "execution_count": 14,
   "id": "a23b7172-8ce1-4122-9a16-7f52440cae24",
   "metadata": {},
   "outputs": [],
   "source": [
    "energy_feature = ['energy_%']  \n",
    "X = train[energy_feature]  \n",
    "Y = train['streams']\n",
    "model_energy = LinearRegression().fit(X, Y)\n",
    "train_predictions = model_energy.predict(X)"
   ]
  },
  {
   "cell_type": "code",
   "execution_count": 15,
   "id": "f6b57d7c",
   "metadata": {},
   "outputs": [
    {
     "data": {
      "image/png": "[encoded data removed]",
      "text/plain": [
       "<Figure size 640x480 with 1 Axes>"
      ]
     },
     "metadata": {},
     "output_type": "display_data"
    }
   ],
   "source": [
    "plt.scatter(X, Y, color='blue', label='Observations') \n",
    "plt.plot(X, train_predictions, color='orange', label='Model')\n",
    "plt.xlabel('Energy Percentage')\n",
    "plt.ylabel('Streams')\n",
    "plt.legend()\n",
    "plt.show()"
   ]
  }
 ],
 "metadata": {
  "kernelspec": {
   "display_name": "Python 3",
   "language": "python",
   "name": "python3"
  },
  "language_info": {
   "codemirror_mode": {
    "name": "ipython",
    "version": 3
   },
   "file_extension": ".py",
   "mimetype": "text/x-python",
   "name": "python",
   "nbconvert_exporter": "python",
   "pygments_lexer": "ipython3",
   "version": "3.13.1"
  }
 },
 "nbformat": 4,
 "nbformat_minor": 5
}
